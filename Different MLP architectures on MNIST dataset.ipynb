{
 "cells": [
  {
   "cell_type": "markdown",
   "metadata": {
    "colab_type": "text",
    "id": "fvyUL-g_R2FI"
   },
   "source": [
    "# **OBJECTIVE :- Apply different MLP Architectures on MNIST dataset**"
   ]
  },
  {
   "cell_type": "code",
   "execution_count": 1,
   "metadata": {
    "colab": {
     "base_uri": "https://localhost:8080/",
     "height": 69
    },
    "colab_type": "code",
    "executionInfo": {
     "elapsed": 2502,
     "status": "ok",
     "timestamp": 1537156860135,
     "user": {
      "displayName": "Pushpendra Singh Chauhan",
      "photoUrl": "//lh3.googleusercontent.com/-P7Pe1EukcZw/AAAAAAAAAAI/AAAAAAAABPk/3MKv8EWLoaE/s50-c-k-no/photo.jpg",
      "userId": "100674582413245730217"
     },
     "user_tz": -330
    },
    "id": "upBwH0WLFJeq",
    "outputId": "0770b1e2-f4d4-4ff3-c288-ea168e215944"
   },
   "outputs": [
    {
     "name": "stderr",
     "output_type": "stream",
     "text": [
      "Using TensorFlow backend.\n"
     ]
    },
    {
     "name": "stdout",
     "output_type": "stream",
     "text": [
      "Number of training examples : 60000 and each image is of shape (28, 28)\n",
      "Number of test examples : 10000 and each image is of shape (28, 28)\n"
     ]
    }
   ],
   "source": [
    "# Importing libraries\n",
    "from keras.utils import np_utils \n",
    "from keras.datasets import mnist \n",
    "import seaborn as sns\n",
    "from keras.initializers import RandomNormal\n",
    "import matplotlib.pyplot as plt\n",
    "%matplotlib inline\n",
    "import numpy as np\n",
    "import time\n",
    "\n",
    "# the data, shuffled and split between train and test sets \n",
    "(X_train, Y_train), (X_test, Y_test) = mnist.load_data()\n",
    "\n",
    "print(\"Number of training examples :\", X_train.shape[0], \"and each image is of shape (%d, %d)\"%(X_train.shape[1], X_train.shape[2]))\n",
    "print(\"Number of test examples :\", X_test.shape[0], \"and each image is of shape (%d, %d)\"%(X_test.shape[1], X_test.shape[2]))"
   ]
  },
  {
   "cell_type": "code",
   "execution_count": 2,
   "metadata": {
    "colab": {
     "base_uri": "https://localhost:8080/",
     "height": 52
    },
    "colab_type": "code",
    "executionInfo": {
     "elapsed": 1088,
     "status": "ok",
     "timestamp": 1537156866753,
     "user": {
      "displayName": "Pushpendra Singh Chauhan",
      "photoUrl": "//lh3.googleusercontent.com/-P7Pe1EukcZw/AAAAAAAAAAI/AAAAAAAABPk/3MKv8EWLoaE/s50-c-k-no/photo.jpg",
      "userId": "100674582413245730217"
     },
     "user_tz": -330
    },
    "id": "9ExCg1VGSt1J",
    "outputId": "d279a15f-011d-4b04-9bf3-9b19ace4781f"
   },
   "outputs": [
    {
     "name": "stdout",
     "output_type": "stream",
     "text": [
      "Number of training examples : 60000 and each image is of shape (784)\n",
      "Number of test examples : 10000 and each image is of shape (784)\n"
     ]
    }
   ],
   "source": [
    "# if you observe the input shape its 3 dimensional vector\n",
    "# for each image we have a (28*28) vector\n",
    "# we will convert the (28*28) vector into single dimensional vector of 1 * 784 \n",
    "\n",
    "X_train = X_train.reshape(X_train.shape[0], X_train.shape[1]*X_train.shape[2]) \n",
    "X_test = X_test.reshape(X_test.shape[0], X_test.shape[1]*X_test.shape[2]) \n",
    "\n",
    "# after converting the input images from 3d to 2d vectors\n",
    "\n",
    "print(\"Number of training examples :\", X_train.shape[0], \"and each image is of shape (%d)\"%(X_train.shape[1]))\n",
    "print(\"Number of test examples :\", X_test.shape[0], \"and each image is of shape (%d)\"%(X_test.shape[1]))"
   ]
  },
  {
   "cell_type": "code",
   "execution_count": 3,
   "metadata": {
    "colab": {
     "base_uri": "https://localhost:8080/",
     "height": 777
    },
    "colab_type": "code",
    "executionInfo": {
     "elapsed": 1155,
     "status": "ok",
     "timestamp": 1537156871345,
     "user": {
      "displayName": "Pushpendra Singh Chauhan",
      "photoUrl": "//lh3.googleusercontent.com/-P7Pe1EukcZw/AAAAAAAAAAI/AAAAAAAABPk/3MKv8EWLoaE/s50-c-k-no/photo.jpg",
      "userId": "100674582413245730217"
     },
     "user_tz": -330
    },
    "id": "69tziiJPTP29",
    "outputId": "c24c4c03-4ee6-4817-a144-7b64b4f6922f"
   },
   "outputs": [
    {
     "name": "stdout",
     "output_type": "stream",
     "text": [
      "[  0   0   0   0   0   0   0   0   0   0   0   0   0   0   0   0   0   0\n",
      "   0   0   0   0   0   0   0   0   0   0   0   0   0   0   0   0   0   0\n",
      "   0   0   0   0   0   0   0   0   0   0   0   0   0   0   0   0   0   0\n",
      "   0   0   0   0   0   0   0   0   0   0   0   0   0   0   0   0   0   0\n",
      "   0   0   0   0   0   0   0   0   0   0   0   0   0   0   0   0   0   0\n",
      "   0   0   0   0   0   0   0   0   0   0   0   0   0   0   0   0   0   0\n",
      "   0   0   0   0   0   0   0   0   0   0   0   0   0   0   0   0   0   0\n",
      "   0   0   0   0   0   0   0   0   0   0   0   0   0   0   0   0   0   0\n",
      "   0   0   0   0   0   0   0   0   3  18  18  18 126 136 175  26 166 255\n",
      " 247 127   0   0   0   0   0   0   0   0   0   0   0   0  30  36  94 154\n",
      " 170 253 253 253 253 253 225 172 253 242 195  64   0   0   0   0   0   0\n",
      "   0   0   0   0   0  49 238 253 253 253 253 253 253 253 253 251  93  82\n",
      "  82  56  39   0   0   0   0   0   0   0   0   0   0   0   0  18 219 253\n",
      " 253 253 253 253 198 182 247 241   0   0   0   0   0   0   0   0   0   0\n",
      "   0   0   0   0   0   0   0   0  80 156 107 253 253 205  11   0  43 154\n",
      "   0   0   0   0   0   0   0   0   0   0   0   0   0   0   0   0   0   0\n",
      "   0  14   1 154 253  90   0   0   0   0   0   0   0   0   0   0   0   0\n",
      "   0   0   0   0   0   0   0   0   0   0   0   0   0 139 253 190   2   0\n",
      "   0   0   0   0   0   0   0   0   0   0   0   0   0   0   0   0   0   0\n",
      "   0   0   0   0   0  11 190 253  70   0   0   0   0   0   0   0   0   0\n",
      "   0   0   0   0   0   0   0   0   0   0   0   0   0   0   0   0  35 241\n",
      " 225 160 108   1   0   0   0   0   0   0   0   0   0   0   0   0   0   0\n",
      "   0   0   0   0   0   0   0   0   0  81 240 253 253 119  25   0   0   0\n",
      "   0   0   0   0   0   0   0   0   0   0   0   0   0   0   0   0   0   0\n",
      "   0   0  45 186 253 253 150  27   0   0   0   0   0   0   0   0   0   0\n",
      "   0   0   0   0   0   0   0   0   0   0   0   0   0  16  93 252 253 187\n",
      "   0   0   0   0   0   0   0   0   0   0   0   0   0   0   0   0   0   0\n",
      "   0   0   0   0   0   0   0 249 253 249  64   0   0   0   0   0   0   0\n",
      "   0   0   0   0   0   0   0   0   0   0   0   0   0   0  46 130 183 253\n",
      " 253 207   2   0   0   0   0   0   0   0   0   0   0   0   0   0   0   0\n",
      "   0   0   0   0  39 148 229 253 253 253 250 182   0   0   0   0   0   0\n",
      "   0   0   0   0   0   0   0   0   0   0   0   0  24 114 221 253 253 253\n",
      " 253 201  78   0   0   0   0   0   0   0   0   0   0   0   0   0   0   0\n",
      "   0   0  23  66 213 253 253 253 253 198  81   2   0   0   0   0   0   0\n",
      "   0   0   0   0   0   0   0   0   0   0  18 171 219 253 253 253 253 195\n",
      "  80   9   0   0   0   0   0   0   0   0   0   0   0   0   0   0   0   0\n",
      "  55 172 226 253 253 253 253 244 133  11   0   0   0   0   0   0   0   0\n",
      "   0   0   0   0   0   0   0   0   0   0 136 253 253 253 212 135 132  16\n",
      "   0   0   0   0   0   0   0   0   0   0   0   0   0   0   0   0   0   0\n",
      "   0   0   0   0   0   0   0   0   0   0   0   0   0   0   0   0   0   0\n",
      "   0   0   0   0   0   0   0   0   0   0   0   0   0   0   0   0   0   0\n",
      "   0   0   0   0   0   0   0   0   0   0   0   0   0   0   0   0   0   0\n",
      "   0   0   0   0   0   0   0   0   0   0   0   0   0   0   0   0   0   0\n",
      "   0   0   0   0   0   0   0   0   0   0]\n"
     ]
    }
   ],
   "source": [
    "# An example data point\n",
    "print(X_train[0])"
   ]
  },
  {
   "cell_type": "code",
   "execution_count": 4,
   "metadata": {
    "colab": {
     "base_uri": "https://localhost:8080/",
     "height": 2281
    },
    "colab_type": "code",
    "executionInfo": {
     "elapsed": 1218,
     "status": "ok",
     "timestamp": 1537156880186,
     "user": {
      "displayName": "Pushpendra Singh Chauhan",
      "photoUrl": "//lh3.googleusercontent.com/-P7Pe1EukcZw/AAAAAAAAAAI/AAAAAAAABPk/3MKv8EWLoaE/s50-c-k-no/photo.jpg",
      "userId": "100674582413245730217"
     },
     "user_tz": -330
    },
    "id": "VI7wkmVgTrEb",
    "outputId": "2d7d1e7e-4266-4b61-c8bd-c81deab913cb"
   },
   "outputs": [
    {
     "name": "stdout",
     "output_type": "stream",
     "text": [
      "[0.         0.         0.         0.         0.         0.\n",
      " 0.         0.         0.         0.         0.         0.\n",
      " 0.         0.         0.         0.         0.         0.\n",
      " 0.         0.         0.         0.         0.         0.\n",
      " 0.         0.         0.         0.         0.         0.\n",
      " 0.         0.         0.         0.         0.         0.\n",
      " 0.         0.         0.         0.         0.         0.\n",
      " 0.         0.         0.         0.         0.         0.\n",
      " 0.         0.         0.         0.         0.         0.\n",
      " 0.         0.         0.         0.         0.         0.\n",
      " 0.         0.         0.         0.         0.         0.\n",
      " 0.         0.         0.         0.         0.         0.\n",
      " 0.         0.         0.         0.         0.         0.\n",
      " 0.         0.         0.         0.         0.         0.\n",
      " 0.         0.         0.         0.         0.         0.\n",
      " 0.         0.         0.         0.         0.         0.\n",
      " 0.         0.         0.         0.         0.         0.\n",
      " 0.         0.         0.         0.         0.         0.\n",
      " 0.         0.         0.         0.         0.         0.\n",
      " 0.         0.         0.         0.         0.         0.\n",
      " 0.         0.         0.         0.         0.         0.\n",
      " 0.         0.         0.         0.         0.         0.\n",
      " 0.         0.         0.         0.         0.         0.\n",
      " 0.         0.         0.         0.         0.         0.\n",
      " 0.         0.         0.         0.         0.         0.\n",
      " 0.         0.         0.01176471 0.07058824 0.07058824 0.07058824\n",
      " 0.49411765 0.53333333 0.68627451 0.10196078 0.65098039 1.\n",
      " 0.96862745 0.49803922 0.         0.         0.         0.\n",
      " 0.         0.         0.         0.         0.         0.\n",
      " 0.         0.         0.11764706 0.14117647 0.36862745 0.60392157\n",
      " 0.66666667 0.99215686 0.99215686 0.99215686 0.99215686 0.99215686\n",
      " 0.88235294 0.6745098  0.99215686 0.94901961 0.76470588 0.25098039\n",
      " 0.         0.         0.         0.         0.         0.\n",
      " 0.         0.         0.         0.         0.         0.19215686\n",
      " 0.93333333 0.99215686 0.99215686 0.99215686 0.99215686 0.99215686\n",
      " 0.99215686 0.99215686 0.99215686 0.98431373 0.36470588 0.32156863\n",
      " 0.32156863 0.21960784 0.15294118 0.         0.         0.\n",
      " 0.         0.         0.         0.         0.         0.\n",
      " 0.         0.         0.         0.07058824 0.85882353 0.99215686\n",
      " 0.99215686 0.99215686 0.99215686 0.99215686 0.77647059 0.71372549\n",
      " 0.96862745 0.94509804 0.         0.         0.         0.\n",
      " 0.         0.         0.         0.         0.         0.\n",
      " 0.         0.         0.         0.         0.         0.\n",
      " 0.         0.         0.31372549 0.61176471 0.41960784 0.99215686\n",
      " 0.99215686 0.80392157 0.04313725 0.         0.16862745 0.60392157\n",
      " 0.         0.         0.         0.         0.         0.\n",
      " 0.         0.         0.         0.         0.         0.\n",
      " 0.         0.         0.         0.         0.         0.\n",
      " 0.         0.05490196 0.00392157 0.60392157 0.99215686 0.35294118\n",
      " 0.         0.         0.         0.         0.         0.\n",
      " 0.         0.         0.         0.         0.         0.\n",
      " 0.         0.         0.         0.         0.         0.\n",
      " 0.         0.         0.         0.         0.         0.\n",
      " 0.         0.54509804 0.99215686 0.74509804 0.00784314 0.\n",
      " 0.         0.         0.         0.         0.         0.\n",
      " 0.         0.         0.         0.         0.         0.\n",
      " 0.         0.         0.         0.         0.         0.\n",
      " 0.         0.         0.         0.         0.         0.04313725\n",
      " 0.74509804 0.99215686 0.2745098  0.         0.         0.\n",
      " 0.         0.         0.         0.         0.         0.\n",
      " 0.         0.         0.         0.         0.         0.\n",
      " 0.         0.         0.         0.         0.         0.\n",
      " 0.         0.         0.         0.         0.1372549  0.94509804\n",
      " 0.88235294 0.62745098 0.42352941 0.00392157 0.         0.\n",
      " 0.         0.         0.         0.         0.         0.\n",
      " 0.         0.         0.         0.         0.         0.\n",
      " 0.         0.         0.         0.         0.         0.\n",
      " 0.         0.         0.         0.31764706 0.94117647 0.99215686\n",
      " 0.99215686 0.46666667 0.09803922 0.         0.         0.\n",
      " 0.         0.         0.         0.         0.         0.\n",
      " 0.         0.         0.         0.         0.         0.\n",
      " 0.         0.         0.         0.         0.         0.\n",
      " 0.         0.         0.17647059 0.72941176 0.99215686 0.99215686\n",
      " 0.58823529 0.10588235 0.         0.         0.         0.\n",
      " 0.         0.         0.         0.         0.         0.\n",
      " 0.         0.         0.         0.         0.         0.\n",
      " 0.         0.         0.         0.         0.         0.\n",
      " 0.         0.0627451  0.36470588 0.98823529 0.99215686 0.73333333\n",
      " 0.         0.         0.         0.         0.         0.\n",
      " 0.         0.         0.         0.         0.         0.\n",
      " 0.         0.         0.         0.         0.         0.\n",
      " 0.         0.         0.         0.         0.         0.\n",
      " 0.         0.97647059 0.99215686 0.97647059 0.25098039 0.\n",
      " 0.         0.         0.         0.         0.         0.\n",
      " 0.         0.         0.         0.         0.         0.\n",
      " 0.         0.         0.         0.         0.         0.\n",
      " 0.         0.         0.18039216 0.50980392 0.71764706 0.99215686\n",
      " 0.99215686 0.81176471 0.00784314 0.         0.         0.\n",
      " 0.         0.         0.         0.         0.         0.\n",
      " 0.         0.         0.         0.         0.         0.\n",
      " 0.         0.         0.         0.         0.15294118 0.58039216\n",
      " 0.89803922 0.99215686 0.99215686 0.99215686 0.98039216 0.71372549\n",
      " 0.         0.         0.         0.         0.         0.\n",
      " 0.         0.         0.         0.         0.         0.\n",
      " 0.         0.         0.         0.         0.         0.\n",
      " 0.09411765 0.44705882 0.86666667 0.99215686 0.99215686 0.99215686\n",
      " 0.99215686 0.78823529 0.30588235 0.         0.         0.\n",
      " 0.         0.         0.         0.         0.         0.\n",
      " 0.         0.         0.         0.         0.         0.\n",
      " 0.         0.         0.09019608 0.25882353 0.83529412 0.99215686\n",
      " 0.99215686 0.99215686 0.99215686 0.77647059 0.31764706 0.00784314\n",
      " 0.         0.         0.         0.         0.         0.\n",
      " 0.         0.         0.         0.         0.         0.\n",
      " 0.         0.         0.         0.         0.07058824 0.67058824\n",
      " 0.85882353 0.99215686 0.99215686 0.99215686 0.99215686 0.76470588\n",
      " 0.31372549 0.03529412 0.         0.         0.         0.\n",
      " 0.         0.         0.         0.         0.         0.\n",
      " 0.         0.         0.         0.         0.         0.\n",
      " 0.21568627 0.6745098  0.88627451 0.99215686 0.99215686 0.99215686\n",
      " 0.99215686 0.95686275 0.52156863 0.04313725 0.         0.\n",
      " 0.         0.         0.         0.         0.         0.\n",
      " 0.         0.         0.         0.         0.         0.\n",
      " 0.         0.         0.         0.         0.53333333 0.99215686\n",
      " 0.99215686 0.99215686 0.83137255 0.52941176 0.51764706 0.0627451\n",
      " 0.         0.         0.         0.         0.         0.\n",
      " 0.         0.         0.         0.         0.         0.\n",
      " 0.         0.         0.         0.         0.         0.\n",
      " 0.         0.         0.         0.         0.         0.\n",
      " 0.         0.         0.         0.         0.         0.\n",
      " 0.         0.         0.         0.         0.         0.\n",
      " 0.         0.         0.         0.         0.         0.\n",
      " 0.         0.         0.         0.         0.         0.\n",
      " 0.         0.         0.         0.         0.         0.\n",
      " 0.         0.         0.         0.         0.         0.\n",
      " 0.         0.         0.         0.         0.         0.\n",
      " 0.         0.         0.         0.         0.         0.\n",
      " 0.         0.         0.         0.         0.         0.\n",
      " 0.         0.         0.         0.         0.         0.\n",
      " 0.         0.         0.         0.         0.         0.\n",
      " 0.         0.         0.         0.         0.         0.\n",
      " 0.         0.         0.         0.        ]\n"
     ]
    }
   ],
   "source": [
    "# if we observe the above matrix each cell is having a value between 0-255\n",
    "# before we move to apply machine learning algorithms lets try to normalize the data\n",
    "# X => (X - Xmin)/(Xmax-Xmin) = X/255\n",
    "\n",
    "X_train = X_train/255\n",
    "X_test = X_test/255\n",
    "\n",
    "# example data point after normlizing\n",
    "print(X_train[0])"
   ]
  },
  {
   "cell_type": "code",
   "execution_count": 5,
   "metadata": {
    "colab": {
     "base_uri": "https://localhost:8080/",
     "height": 52
    },
    "colab_type": "code",
    "executionInfo": {
     "elapsed": 1270,
     "status": "ok",
     "timestamp": 1537156887734,
     "user": {
      "displayName": "Pushpendra Singh Chauhan",
      "photoUrl": "//lh3.googleusercontent.com/-P7Pe1EukcZw/AAAAAAAAAAI/AAAAAAAABPk/3MKv8EWLoaE/s50-c-k-no/photo.jpg",
      "userId": "100674582413245730217"
     },
     "user_tz": -330
    },
    "id": "pYHWIFOUUGMy",
    "outputId": "9a8d391b-e1c6-4ddb-ef11-2c309881f6f4"
   },
   "outputs": [
    {
     "name": "stdout",
     "output_type": "stream",
     "text": [
      "Class label of first image : 5\n",
      "After converting the output into a vector :  [0. 0. 0. 0. 0. 1. 0. 0. 0. 0.]\n"
     ]
    }
   ],
   "source": [
    "# here we are having a class number for each image\n",
    "print(\"Class label of first image :\", Y_train[0])\n",
    "\n",
    "# lets convert this into a 10 dimensional vector\n",
    "# ex: consider an image is 5 convert it into 5 => [0, 0, 0, 0, 0, 1, 0, 0, 0, 0]\n",
    "# this conversion needed for MLPs \n",
    "\n",
    "y_train = np_utils.to_categorical(Y_train, 10) \n",
    "y_test = np_utils.to_categorical(Y_test, 10)\n",
    "\n",
    "print(\"After converting the output into a vector : \",y_train[0])"
   ]
  },
  {
   "cell_type": "code",
   "execution_count": 0,
   "metadata": {
    "colab": {},
    "colab_type": "code",
    "id": "HsYVNxFfUnxs"
   },
   "outputs": [],
   "source": [
    "# this function is used draw Categorical Crossentropy Loss VS No. of epochs plot\n",
    "def plt_dynamic(x, vy, ty):\n",
    "  plt.figure(figsize=(10,5))\n",
    "  plt.plot(x, vy, 'b', label=\"Validation Loss\")\n",
    "  plt.plot(x, ty, 'r', label=\"Train Loss\")\n",
    "  plt.xlabel('Epochs') \n",
    "  plt.ylabel('Categorical Crossentropy Loss')\n",
    "  plt.title('\\nCategorical Crossentropy Loss VS Epochs')\n",
    "  plt.legend()\n",
    "  plt.grid()\n",
    "  plt.show()"
   ]
  },
  {
   "cell_type": "markdown",
   "metadata": {
    "colab_type": "text",
    "id": "AlR4OOh6WPkF"
   },
   "source": [
    "## (1). Softmax Classifier with 2 hidden layers"
   ]
  },
  {
   "cell_type": "markdown",
   "metadata": {
    "colab_type": "text",
    "id": "ip4ZGo_oWoz9"
   },
   "source": [
    "### (1.a) Without dropout and Batch normalization"
   ]
  },
  {
   "cell_type": "code",
   "execution_count": 7,
   "metadata": {
    "colab": {
     "base_uri": "https://localhost:8080/",
     "height": 985
    },
    "colab_type": "code",
    "executionInfo": {
     "elapsed": 117516,
     "status": "ok",
     "timestamp": 1537157020698,
     "user": {
      "displayName": "Pushpendra Singh Chauhan",
      "photoUrl": "//lh3.googleusercontent.com/-P7Pe1EukcZw/AAAAAAAAAAI/AAAAAAAABPk/3MKv8EWLoaE/s50-c-k-no/photo.jpg",
      "userId": "100674582413245730217"
     },
     "user_tz": -330
    },
    "id": "AxnDBEbjWnO3",
    "outputId": "3aa7f8fe-9689-4d4f-c26e-be0c1b1046a4"
   },
   "outputs": [
    {
     "name": "stdout",
     "output_type": "stream",
     "text": [
      "_________________________________________________________________\n",
      "Layer (type)                 Output Shape              Param #   \n",
      "=================================================================\n",
      "dense_1 (Dense)              (None, 364)               285740    \n",
      "_________________________________________________________________\n",
      "dense_2 (Dense)              (None, 52)                18980     \n",
      "_________________________________________________________________\n",
      "dense_3 (Dense)              (None, 10)                530       \n",
      "=================================================================\n",
      "Total params: 305,250\n",
      "Trainable params: 305,250\n",
      "Non-trainable params: 0\n",
      "_________________________________________________________________\n",
      "Model Summary :- \n",
      " None\n",
      "Train on 60000 samples, validate on 10000 samples\n",
      "Epoch 1/20\n",
      "60000/60000 [==============================] - 6s 104us/step - loss: 0.2745 - acc: 0.9217 - val_loss: 0.1294 - val_acc: 0.9595\n",
      "Epoch 2/20\n",
      "60000/60000 [==============================] - 6s 97us/step - loss: 0.1046 - acc: 0.9684 - val_loss: 0.0864 - val_acc: 0.9736\n",
      "Epoch 3/20\n",
      "60000/60000 [==============================] - 6s 95us/step - loss: 0.0681 - acc: 0.9792 - val_loss: 0.0744 - val_acc: 0.9762\n",
      "Epoch 4/20\n",
      "60000/60000 [==============================] - 6s 95us/step - loss: 0.0481 - acc: 0.9852 - val_loss: 0.0707 - val_acc: 0.9771\n",
      "Epoch 5/20\n",
      "60000/60000 [==============================] - 6s 95us/step - loss: 0.0352 - acc: 0.9892 - val_loss: 0.0748 - val_acc: 0.9759\n",
      "Epoch 6/20\n",
      "60000/60000 [==============================] - 6s 93us/step - loss: 0.0262 - acc: 0.9921 - val_loss: 0.0633 - val_acc: 0.9819\n",
      "Epoch 7/20\n",
      "60000/60000 [==============================] - 6s 97us/step - loss: 0.0222 - acc: 0.9929 - val_loss: 0.0679 - val_acc: 0.9788\n",
      "Epoch 8/20\n",
      "60000/60000 [==============================] - 6s 95us/step - loss: 0.0146 - acc: 0.9958 - val_loss: 0.0799 - val_acc: 0.9759\n",
      "Epoch 9/20\n",
      "60000/60000 [==============================] - 6s 96us/step - loss: 0.0137 - acc: 0.9961 - val_loss: 0.0682 - val_acc: 0.9809\n",
      "Epoch 10/20\n",
      "60000/60000 [==============================] - 6s 97us/step - loss: 0.0138 - acc: 0.9957 - val_loss: 0.0885 - val_acc: 0.9758\n",
      "Epoch 11/20\n",
      "60000/60000 [==============================] - 6s 96us/step - loss: 0.0122 - acc: 0.9962 - val_loss: 0.0639 - val_acc: 0.9804\n",
      "Epoch 12/20\n",
      "60000/60000 [==============================] - 6s 97us/step - loss: 0.0091 - acc: 0.9970 - val_loss: 0.0696 - val_acc: 0.9813\n",
      "Epoch 13/20\n",
      "60000/60000 [==============================] - 6s 95us/step - loss: 0.0089 - acc: 0.9970 - val_loss: 0.0732 - val_acc: 0.9819\n",
      "Epoch 14/20\n",
      "60000/60000 [==============================] - 6s 96us/step - loss: 0.0084 - acc: 0.9973 - val_loss: 0.0787 - val_acc: 0.9812\n",
      "Epoch 15/20\n",
      "60000/60000 [==============================] - 6s 96us/step - loss: 0.0068 - acc: 0.9979 - val_loss: 0.0917 - val_acc: 0.9781\n",
      "Epoch 16/20\n",
      "60000/60000 [==============================] - 6s 94us/step - loss: 0.0121 - acc: 0.9960 - val_loss: 0.0782 - val_acc: 0.9802\n",
      "Epoch 17/20\n",
      "60000/60000 [==============================] - 6s 94us/step - loss: 0.0042 - acc: 0.9989 - val_loss: 0.0843 - val_acc: 0.9817\n",
      "Epoch 18/20\n",
      "60000/60000 [==============================] - 6s 95us/step - loss: 0.0098 - acc: 0.9970 - val_loss: 0.0849 - val_acc: 0.9803\n",
      "Epoch 19/20\n",
      "60000/60000 [==============================] - 6s 105us/step - loss: 0.0064 - acc: 0.9980 - val_loss: 0.0838 - val_acc: 0.9798\n",
      "Epoch 20/20\n",
      "60000/60000 [==============================] - 6s 103us/step - loss: 0.0051 - acc: 0.9984 - val_loss: 0.0821 - val_acc: 0.9815\n"
     ]
    }
   ],
   "source": [
    "from keras.models import Sequential \n",
    "from keras.layers import Dense, Activation\n",
    "from keras.initializers import he_normal\n",
    "\n",
    "# some model parameters\n",
    "\n",
    "output_dim = 10\n",
    "input_dim = X_train.shape[1]\n",
    "\n",
    "batch_size = 128 \n",
    "nb_epoch = 20\n",
    "\n",
    "# Initialising model\n",
    "model_2 = Sequential()\n",
    "\n",
    "# Adding first hidden layer\n",
    "model_2.add(Dense(364, activation='relu', input_shape=(input_dim,), kernel_initializer=he_normal(seed=None)))\n",
    "\n",
    "# Adding second hidden layer\n",
    "model_2.add(Dense(52, activation='relu', kernel_initializer=he_normal(seed=None)))\n",
    "\n",
    "# Adding output layer\n",
    "model_2.add(Dense(output_dim, activation='softmax'))\n",
    "\n",
    "# Printing model Summary\n",
    "print(\"Model Summary :- \\n\",model_2.summary())\n",
    "\n",
    "# Compiling the model\n",
    "model_2.compile(optimizer='adam', loss='categorical_crossentropy', metrics=['accuracy'])\n",
    "\n",
    "# Fitting the data to the model\n",
    "history_2 = model_2.fit(X_train, y_train, batch_size=batch_size, epochs=nb_epoch, verbose=1, validation_data=(X_test, y_test))"
   ]
  },
  {
   "cell_type": "code",
   "execution_count": 8,
   "metadata": {
    "colab": {
     "base_uri": "https://localhost:8080/",
     "height": 398
    },
    "colab_type": "code",
    "executionInfo": {
     "elapsed": 1865,
     "status": "ok",
     "timestamp": 1537157078778,
     "user": {
      "displayName": "Pushpendra Singh Chauhan",
      "photoUrl": "//lh3.googleusercontent.com/-P7Pe1EukcZw/AAAAAAAAAAI/AAAAAAAABPk/3MKv8EWLoaE/s50-c-k-no/photo.jpg",
      "userId": "100674582413245730217"
     },
     "user_tz": -330
    },
    "id": "3kDgojB6WI8s",
    "outputId": "cb800945-904f-42cc-d4ed-263d20c6c6c6"
   },
   "outputs": [
    {
     "name": "stdout",
     "output_type": "stream",
     "text": [
      "Test score: 0.08213182862031254\n",
      "Test accuracy: 0.9815\n"
     ]
    },
    {
     "data": {
      "image/png": "[encoded data removed]",
      "text/plain": [
       "<matplotlib.figure.Figure at 0x7ffb90b4e940>"
      ]
     },
     "metadata": {
      "tags": []
     },
     "output_type": "display_data"
    }
   ],
   "source": [
    "# Evaluating the model\n",
    "score = model_2.evaluate(X_test, y_test, verbose=0) \n",
    "print('Test score:', score[0]) \n",
    "print('Test accuracy:', score[1])\n",
    "\n",
    "# Test and train accuracy of the model\n",
    "model_2_test = score[1]\n",
    "model_2_train = history_2.history['acc']\n",
    "\n",
    "# Plotting Train and Test Loss VS no. of epochs\n",
    "# list of epoch numbers\n",
    "x = list(range(1,nb_epoch+1))\n",
    "\n",
    "# Validation loss\n",
    "vy = history_2.history['val_loss']\n",
    "# Training loss\n",
    "ty = history_2.history['loss']\n",
    "\n",
    "# Calling the function to draw the plot\n",
    "plt_dynamic(x, vy, ty)"
   ]
  },
  {
   "cell_type": "markdown",
   "metadata": {
    "colab_type": "text",
    "id": "LzN2ye1RtEeN"
   },
   "source": [
    "### (1.b) With dropout and Batch Normalization"
   ]
  },
  {
   "cell_type": "code",
   "execution_count": 10,
   "metadata": {
    "colab": {
     "base_uri": "https://localhost:8080/",
     "height": 1123
    },
    "colab_type": "code",
    "executionInfo": {
     "elapsed": 144912,
     "status": "ok",
     "timestamp": 1537157795500,
     "user": {
      "displayName": "Pushpendra Singh Chauhan",
      "photoUrl": "//lh3.googleusercontent.com/-P7Pe1EukcZw/AAAAAAAAAAI/AAAAAAAABPk/3MKv8EWLoaE/s50-c-k-no/photo.jpg",
      "userId": "100674582413245730217"
     },
     "user_tz": -330
    },
    "id": "HgRji2-ytM94",
    "outputId": "510c5f5b-9352-4c9e-b457-0842b800e708"
   },
   "outputs": [
    {
     "name": "stdout",
     "output_type": "stream",
     "text": [
      "_________________________________________________________________\n",
      "Layer (type)                 Output Shape              Param #   \n",
      "=================================================================\n",
      "dense_5 (Dense)              (None, 364)               285740    \n",
      "_________________________________________________________________\n",
      "batch_normalization_1 (Batch (None, 364)               1456      \n",
      "_________________________________________________________________\n",
      "dropout_1 (Dropout)          (None, 364)               0         \n",
      "_________________________________________________________________\n",
      "dense_6 (Dense)              (None, 52)                18980     \n",
      "_________________________________________________________________\n",
      "batch_normalization_2 (Batch (None, 52)                208       \n",
      "_________________________________________________________________\n",
      "dropout_2 (Dropout)          (None, 52)                0         \n",
      "_________________________________________________________________\n",
      "dense_7 (Dense)              (None, 10)                530       \n",
      "=================================================================\n",
      "Total params: 306,914\n",
      "Trainable params: 306,082\n",
      "Non-trainable params: 832\n",
      "_________________________________________________________________\n",
      "Model Summary :- \n",
      " None\n",
      "Train on 60000 samples, validate on 10000 samples\n",
      "Epoch 1/20\n",
      "60000/60000 [==============================] - 8s 138us/step - loss: 0.5260 - acc: 0.8436 - val_loss: 0.1704 - val_acc: 0.9470\n",
      "Epoch 2/20\n",
      "60000/60000 [==============================] - 7s 120us/step - loss: 0.2536 - acc: 0.9274 - val_loss: 0.1189 - val_acc: 0.9652\n",
      "Epoch 3/20\n",
      "60000/60000 [==============================] - 7s 119us/step - loss: 0.2009 - acc: 0.9425 - val_loss: 0.1042 - val_acc: 0.9688\n",
      "Epoch 4/20\n",
      "60000/60000 [==============================] - 7s 118us/step - loss: 0.1676 - acc: 0.9521 - val_loss: 0.0964 - val_acc: 0.9714\n",
      "Epoch 5/20\n",
      "60000/60000 [==============================] - 7s 118us/step - loss: 0.1536 - acc: 0.9557 - val_loss: 0.0811 - val_acc: 0.9750\n",
      "Epoch 6/20\n",
      "60000/60000 [==============================] - 7s 118us/step - loss: 0.1357 - acc: 0.9603 - val_loss: 0.0789 - val_acc: 0.9734\n",
      "Epoch 7/20\n",
      "60000/60000 [==============================] - 7s 119us/step - loss: 0.1261 - acc: 0.9636 - val_loss: 0.0757 - val_acc: 0.9761\n",
      "Epoch 8/20\n",
      "60000/60000 [==============================] - 7s 118us/step - loss: 0.1189 - acc: 0.9648 - val_loss: 0.0698 - val_acc: 0.9798\n",
      "Epoch 9/20\n",
      "60000/60000 [==============================] - 7s 118us/step - loss: 0.1106 - acc: 0.9676 - val_loss: 0.0731 - val_acc: 0.9779\n",
      "Epoch 10/20\n",
      "60000/60000 [==============================] - 7s 118us/step - loss: 0.1050 - acc: 0.9693 - val_loss: 0.0734 - val_acc: 0.9772\n",
      "Epoch 11/20\n",
      "60000/60000 [==============================] - 7s 119us/step - loss: 0.1029 - acc: 0.9691 - val_loss: 0.0707 - val_acc: 0.9792\n",
      "Epoch 12/20\n",
      "60000/60000 [==============================] - 7s 119us/step - loss: 0.0979 - acc: 0.9702 - val_loss: 0.0712 - val_acc: 0.9792\n",
      "Epoch 13/20\n",
      "60000/60000 [==============================] - 7s 118us/step - loss: 0.0930 - acc: 0.9724 - val_loss: 0.0672 - val_acc: 0.9798\n",
      "Epoch 14/20\n",
      "60000/60000 [==============================] - 7s 117us/step - loss: 0.0894 - acc: 0.9736 - val_loss: 0.0680 - val_acc: 0.9803\n",
      "Epoch 15/20\n",
      "60000/60000 [==============================] - 7s 118us/step - loss: 0.0887 - acc: 0.9735 - val_loss: 0.0645 - val_acc: 0.9806\n",
      "Epoch 16/20\n",
      "60000/60000 [==============================] - 7s 117us/step - loss: 0.0867 - acc: 0.9738 - val_loss: 0.0656 - val_acc: 0.9810\n",
      "Epoch 17/20\n",
      "60000/60000 [==============================] - 7s 118us/step - loss: 0.0820 - acc: 0.9749 - val_loss: 0.0639 - val_acc: 0.9808\n",
      "Epoch 18/20\n",
      "60000/60000 [==============================] - 7s 119us/step - loss: 0.0783 - acc: 0.9762 - val_loss: 0.0655 - val_acc: 0.9815\n",
      "Epoch 19/20\n",
      "60000/60000 [==============================] - 7s 119us/step - loss: 0.0787 - acc: 0.9764 - val_loss: 0.0634 - val_acc: 0.9812\n",
      "Epoch 20/20\n",
      "60000/60000 [==============================] - 7s 118us/step - loss: 0.0714 - acc: 0.9781 - val_loss: 0.0691 - val_acc: 0.9817\n"
     ]
    }
   ],
   "source": [
    "from keras.layers.normalization import BatchNormalization\n",
    "from keras.layers import Dropout\n",
    "\n",
    "# Initialising model\n",
    "model_2d = Sequential()\n",
    "\n",
    "# Adding first hidden layer\n",
    "model_2d.add(Dense(364, activation='relu', input_shape=(input_dim,), kernel_initializer=he_normal(seed=None)))\n",
    "# Adding Batch Normalization\n",
    "model_2d.add(BatchNormalization())\n",
    "# Adding dropout to first hidden layer\n",
    "model_2d.add(Dropout(0.5))\n",
    "\n",
    "# Adding second hidden layer\n",
    "model_2d.add(Dense(52, activation='relu', kernel_initializer=he_normal(seed=None)))\n",
    "# Adding Batch Normalization\n",
    "model_2d.add(BatchNormalization())\n",
    "# Adding dropout to second hidden layer\n",
    "model_2d.add(Dropout(0.5))\n",
    "\n",
    "# Adding output layer\n",
    "model_2d.add(Dense(output_dim, activation='softmax'))\n",
    "\n",
    "# Printing model Summary\n",
    "print(\"Model Summary :- \\n\",model_2d.summary())\n",
    "\n",
    "# Compiling the model\n",
    "model_2d.compile(optimizer='adam', loss='categorical_crossentropy', metrics=['accuracy'])\n",
    "\n",
    "# Fitting the data to the model\n",
    "history_2d = model_2d.fit(X_train, y_train, batch_size=batch_size, epochs=nb_epoch, verbose=1, validation_data=(X_test, y_test))"
   ]
  },
  {
   "cell_type": "code",
   "execution_count": 11,
   "metadata": {
    "colab": {
     "base_uri": "https://localhost:8080/",
     "height": 398
    },
    "colab_type": "code",
    "executionInfo": {
     "elapsed": 2008,
     "status": "ok",
     "timestamp": 1537157803345,
     "user": {
      "displayName": "Pushpendra Singh Chauhan",
      "photoUrl": "//lh3.googleusercontent.com/-P7Pe1EukcZw/AAAAAAAAAAI/AAAAAAAABPk/3MKv8EWLoaE/s50-c-k-no/photo.jpg",
      "userId": "100674582413245730217"
     },
     "user_tz": -330
    },
    "id": "DPrmVlkevQI6",
    "outputId": "2cb1ce12-1fc7-4ec3-e349-8c412f1c296a"
   },
   "outputs": [
    {
     "name": "stdout",
     "output_type": "stream",
     "text": [
      "Test score: 0.06914302359962603\n",
      "Test accuracy: 0.9817\n"
     ]
    },
    {
     "data": {
      "image/png": "[encoded data removed]",
      "text/plain": [
       "<matplotlib.figure.Figure at 0x7ffb90b1bb70>"
      ]
     },
     "metadata": {
      "tags": []
     },
     "output_type": "display_data"
    }
   ],
   "source": [
    "# Evaluating the model\n",
    "score = model_2d.evaluate(X_test, y_test, verbose=0) \n",
    "print('Test score:', score[0]) \n",
    "print('Test accuracy:', score[1])\n",
    "\n",
    "# Test and train accuracy of the model\n",
    "model_2d_test = score[1]\n",
    "model_2d_train = history_2d.history['acc']\n",
    "\n",
    "# Plotting Train and Test Loss VS no. of epochs\n",
    "# list of epoch numbers\n",
    "x = list(range(1,nb_epoch+1))\n",
    "\n",
    "# Validation loss\n",
    "vy = history_2d.history['val_loss']\n",
    "# Training loss\n",
    "ty = history_2d.history['loss']\n",
    "\n",
    "# Calling the function to draw the plot\n",
    "plt_dynamic(x, vy, ty)"
   ]
  },
  {
   "cell_type": "markdown",
   "metadata": {
    "colab_type": "text",
    "id": "j2eF9IYCv5aw"
   },
   "source": [
    "## (2). Softmax Classifier with 3  hidden layers"
   ]
  },
  {
   "cell_type": "markdown",
   "metadata": {
    "colab_type": "text",
    "id": "g3EeTb5HwFEa"
   },
   "source": [
    "### (2.a) Without Dropout and Batch Normalization"
   ]
  },
  {
   "cell_type": "code",
   "execution_count": 12,
   "metadata": {
    "colab": {
     "base_uri": "https://localhost:8080/",
     "height": 1002
    },
    "colab_type": "code",
    "executionInfo": {
     "elapsed": 140142,
     "status": "ok",
     "timestamp": 1537158452622,
     "user": {
      "displayName": "Pushpendra Singh Chauhan",
      "photoUrl": "//lh3.googleusercontent.com/-P7Pe1EukcZw/AAAAAAAAAAI/AAAAAAAABPk/3MKv8EWLoaE/s50-c-k-no/photo.jpg",
      "userId": "100674582413245730217"
     },
     "user_tz": -330
    },
    "id": "8lDfIZD7wODA",
    "outputId": "2f8a3160-44b9-46e8-b5e9-d4f7ebf0115f"
   },
   "outputs": [
    {
     "name": "stdout",
     "output_type": "stream",
     "text": [
      "_________________________________________________________________\n",
      "Layer (type)                 Output Shape              Param #   \n",
      "=================================================================\n",
      "dense_8 (Dense)              (None, 392)               307720    \n",
      "_________________________________________________________________\n",
      "dense_9 (Dense)              (None, 196)               77028     \n",
      "_________________________________________________________________\n",
      "dense_10 (Dense)             (None, 98)                19306     \n",
      "_________________________________________________________________\n",
      "dense_11 (Dense)             (None, 10)                990       \n",
      "=================================================================\n",
      "Total params: 405,044\n",
      "Trainable params: 405,044\n",
      "Non-trainable params: 0\n",
      "_________________________________________________________________\n",
      "None\n",
      "Train on 60000 samples, validate on 10000 samples\n",
      "Epoch 1/20\n",
      "60000/60000 [==============================] - 7s 122us/step - loss: 0.2469 - acc: 0.9283 - val_loss: 0.1270 - val_acc: 0.9603\n",
      "Epoch 2/20\n",
      "60000/60000 [==============================] - 7s 115us/step - loss: 0.0902 - acc: 0.9726 - val_loss: 0.0820 - val_acc: 0.9722\n",
      "Epoch 3/20\n",
      "60000/60000 [==============================] - 7s 114us/step - loss: 0.0585 - acc: 0.9817 - val_loss: 0.0874 - val_acc: 0.9718\n",
      "Epoch 4/20\n",
      "60000/60000 [==============================] - 7s 115us/step - loss: 0.0426 - acc: 0.9867 - val_loss: 0.0719 - val_acc: 0.9766\n",
      "Epoch 5/20\n",
      "60000/60000 [==============================] - 7s 116us/step - loss: 0.0310 - acc: 0.9899 - val_loss: 0.0649 - val_acc: 0.9808\n",
      "Epoch 6/20\n",
      "60000/60000 [==============================] - 7s 116us/step - loss: 0.0258 - acc: 0.9912 - val_loss: 0.0644 - val_acc: 0.9803\n",
      "Epoch 7/20\n",
      "60000/60000 [==============================] - 7s 115us/step - loss: 0.0213 - acc: 0.9929 - val_loss: 0.0738 - val_acc: 0.9796\n",
      "Epoch 8/20\n",
      "60000/60000 [==============================] - 7s 116us/step - loss: 0.0198 - acc: 0.9935 - val_loss: 0.0834 - val_acc: 0.9778\n",
      "Epoch 9/20\n",
      "60000/60000 [==============================] - 7s 117us/step - loss: 0.0170 - acc: 0.9941 - val_loss: 0.0730 - val_acc: 0.9807\n",
      "Epoch 10/20\n",
      "60000/60000 [==============================] - 7s 115us/step - loss: 0.0154 - acc: 0.9949 - val_loss: 0.0949 - val_acc: 0.9771\n",
      "Epoch 11/20\n",
      "60000/60000 [==============================] - 7s 115us/step - loss: 0.0123 - acc: 0.9960 - val_loss: 0.0895 - val_acc: 0.9789\n",
      "Epoch 12/20\n",
      "60000/60000 [==============================] - 7s 115us/step - loss: 0.0127 - acc: 0.9956 - val_loss: 0.0819 - val_acc: 0.9809\n",
      "Epoch 13/20\n",
      "60000/60000 [==============================] - 7s 115us/step - loss: 0.0130 - acc: 0.9960 - val_loss: 0.0875 - val_acc: 0.9803\n",
      "Epoch 14/20\n",
      "60000/60000 [==============================] - 7s 114us/step - loss: 0.0109 - acc: 0.9963 - val_loss: 0.0812 - val_acc: 0.9811\n",
      "Epoch 15/20\n",
      "60000/60000 [==============================] - 7s 114us/step - loss: 0.0119 - acc: 0.9962 - val_loss: 0.0988 - val_acc: 0.9790\n",
      "Epoch 16/20\n",
      "60000/60000 [==============================] - 7s 115us/step - loss: 0.0113 - acc: 0.9964 - val_loss: 0.0815 - val_acc: 0.9817\n",
      "Epoch 17/20\n",
      "60000/60000 [==============================] - 7s 115us/step - loss: 0.0082 - acc: 0.9974 - val_loss: 0.0866 - val_acc: 0.9802\n",
      "Epoch 18/20\n",
      "60000/60000 [==============================] - 7s 115us/step - loss: 0.0084 - acc: 0.9973 - val_loss: 0.1109 - val_acc: 0.9767\n",
      "Epoch 19/20\n",
      "60000/60000 [==============================] - 7s 114us/step - loss: 0.0052 - acc: 0.9983 - val_loss: 0.0936 - val_acc: 0.9805\n",
      "Epoch 20/20\n",
      "60000/60000 [==============================] - 7s 114us/step - loss: 0.0108 - acc: 0.9967 - val_loss: 0.0958 - val_acc: 0.9782\n"
     ]
    }
   ],
   "source": [
    "# Initialising model\n",
    "model_3 = Sequential()\n",
    "\n",
    "# Adding first hidden layer\n",
    "model_3.add(Dense(392, activation='relu', input_shape=(input_dim,), kernel_initializer=he_normal(seed=None)))\n",
    "\n",
    "# Adding second hidden layer\n",
    "model_3.add(Dense(196, activation='relu', kernel_initializer=he_normal(seed=None)))\n",
    "\n",
    "# Adding third hidden layer\n",
    "model_3.add(Dense(98, activation='relu', kernel_initializer=he_normal(seed=None)))\n",
    "\n",
    "# Adding output layer\n",
    "model_3.add(Dense(output_dim, activation='softmax'))\n",
    "\n",
    "# Printing model Summary\n",
    "print(model_3.summary())\n",
    "\n",
    "# Compiling the model\n",
    "model_3.compile(optimizer='adam', loss='categorical_crossentropy', metrics=['accuracy'])\n",
    "\n",
    "# Fitting the data to the model\n",
    "history_3 = model_3.fit(X_train, y_train, batch_size=batch_size, epochs=nb_epoch, verbose=1, validation_data=(X_test, y_test))"
   ]
  },
  {
   "cell_type": "code",
   "execution_count": 13,
   "metadata": {
    "colab": {
     "base_uri": "https://localhost:8080/",
     "height": 398
    },
    "colab_type": "code",
    "executionInfo": {
     "elapsed": 2026,
     "status": "ok",
     "timestamp": 1537158467589,
     "user": {
      "displayName": "Pushpendra Singh Chauhan",
      "photoUrl": "//lh3.googleusercontent.com/-P7Pe1EukcZw/AAAAAAAAAAI/AAAAAAAABPk/3MKv8EWLoaE/s50-c-k-no/photo.jpg",
      "userId": "100674582413245730217"
     },
     "user_tz": -330
    },
    "id": "wngcfPIIxt_P",
    "outputId": "25187ed0-d114-465a-a819-f3648a5de4e4"
   },
   "outputs": [
    {
     "name": "stdout",
     "output_type": "stream",
     "text": [
      "Test score: 0.09583447469817774\n",
      "Test accuracy: 0.9782\n"
     ]
    },
    {
     "data": {
      "image/png": "[encoded data removed]",
      "text/plain": [
       "<matplotlib.figure.Figure at 0x7ffb8d639470>"
      ]
     },
     "metadata": {
      "tags": []
     },
     "output_type": "display_data"
    }
   ],
   "source": [
    "# Evaluating the model\n",
    "score = model_3.evaluate(X_test, y_test, verbose=0) \n",
    "print('Test score:', score[0]) \n",
    "print('Test accuracy:', score[1])\n",
    "\n",
    "# Test and train accuracy of the model\n",
    "model_3_test = score[1]\n",
    "model_3_train = history_3.history['acc']\n",
    "\n",
    "# Plotting Train and Test Loss VS no. of epochs\n",
    "# list of epoch numbers\n",
    "x = list(range(1,nb_epoch+1))\n",
    "\n",
    "# Validation loss\n",
    "vy = history_3.history['val_loss']\n",
    "# Training loss\n",
    "ty = history_3.history['loss']\n",
    "\n",
    "# Calling the function to draw the plot\n",
    "plt_dynamic(x, vy, ty)"
   ]
  },
  {
   "cell_type": "markdown",
   "metadata": {
    "colab_type": "text",
    "id": "0mw99MGvyTzh"
   },
   "source": [
    "### (2.b) With Droput and Batch Normalization"
   ]
  },
  {
   "cell_type": "code",
   "execution_count": 14,
   "metadata": {
    "colab": {
     "base_uri": "https://localhost:8080/",
     "height": 1209
    },
    "colab_type": "code",
    "executionInfo": {
     "elapsed": 196461,
     "status": "ok",
     "timestamp": 1537158965186,
     "user": {
      "displayName": "Pushpendra Singh Chauhan",
      "photoUrl": "//lh3.googleusercontent.com/-P7Pe1EukcZw/AAAAAAAAAAI/AAAAAAAABPk/3MKv8EWLoaE/s50-c-k-no/photo.jpg",
      "userId": "100674582413245730217"
     },
     "user_tz": -330
    },
    "id": "LzBcSCOzya4u",
    "outputId": "816c2d8d-e47c-4d99-f5b3-53d63534bbfa"
   },
   "outputs": [
    {
     "name": "stdout",
     "output_type": "stream",
     "text": [
      "_________________________________________________________________\n",
      "Layer (type)                 Output Shape              Param #   \n",
      "=================================================================\n",
      "dense_12 (Dense)             (None, 392)               307720    \n",
      "_________________________________________________________________\n",
      "batch_normalization_3 (Batch (None, 392)               1568      \n",
      "_________________________________________________________________\n",
      "dropout_3 (Dropout)          (None, 392)               0         \n",
      "_________________________________________________________________\n",
      "dense_13 (Dense)             (None, 196)               77028     \n",
      "_________________________________________________________________\n",
      "batch_normalization_4 (Batch (None, 196)               784       \n",
      "_________________________________________________________________\n",
      "dropout_4 (Dropout)          (None, 196)               0         \n",
      "_________________________________________________________________\n",
      "dense_14 (Dense)             (None, 98)                19306     \n",
      "_________________________________________________________________\n",
      "batch_normalization_5 (Batch (None, 98)                392       \n",
      "_________________________________________________________________\n",
      "dropout_5 (Dropout)          (None, 98)                0         \n",
      "_________________________________________________________________\n",
      "dense_15 (Dense)             (None, 10)                990       \n",
      "=================================================================\n",
      "Total params: 407,788\n",
      "Trainable params: 406,416\n",
      "Non-trainable params: 1,372\n",
      "_________________________________________________________________\n",
      "None\n",
      "Train on 60000 samples, validate on 10000 samples\n",
      "Epoch 1/20\n",
      "60000/60000 [==============================] - 11s 180us/step - loss: 0.6184 - acc: 0.8117 - val_loss: 0.1752 - val_acc: 0.9443\n",
      "Epoch 2/20\n",
      "60000/60000 [==============================] - 10s 161us/step - loss: 0.2680 - acc: 0.9222 - val_loss: 0.1250 - val_acc: 0.9615\n",
      "Epoch 3/20\n",
      "60000/60000 [==============================] - 10s 160us/step - loss: 0.2083 - acc: 0.9392 - val_loss: 0.1067 - val_acc: 0.9674\n",
      "Epoch 4/20\n",
      "60000/60000 [==============================] - 10s 160us/step - loss: 0.1784 - acc: 0.9484 - val_loss: 0.0916 - val_acc: 0.9730\n",
      "Epoch 5/20\n",
      "60000/60000 [==============================] - 10s 161us/step - loss: 0.1588 - acc: 0.9538 - val_loss: 0.0913 - val_acc: 0.9732\n",
      "Epoch 6/20\n",
      "60000/60000 [==============================] - 10s 161us/step - loss: 0.1451 - acc: 0.9581 - val_loss: 0.0827 - val_acc: 0.9754\n",
      "Epoch 7/20\n",
      "60000/60000 [==============================] - 10s 159us/step - loss: 0.1340 - acc: 0.9605 - val_loss: 0.0812 - val_acc: 0.9756\n",
      "Epoch 8/20\n",
      "60000/60000 [==============================] - 10s 160us/step - loss: 0.1233 - acc: 0.9636 - val_loss: 0.0789 - val_acc: 0.9760\n",
      "Epoch 9/20\n",
      "60000/60000 [==============================] - 10s 161us/step - loss: 0.1148 - acc: 0.9662 - val_loss: 0.0729 - val_acc: 0.9790\n",
      "Epoch 10/20\n",
      "60000/60000 [==============================] - 10s 160us/step - loss: 0.1078 - acc: 0.9685 - val_loss: 0.0714 - val_acc: 0.9785\n",
      "Epoch 11/20\n",
      "60000/60000 [==============================] - 10s 166us/step - loss: 0.1080 - acc: 0.9684 - val_loss: 0.0674 - val_acc: 0.9804\n",
      "Epoch 12/20\n",
      "60000/60000 [==============================] - 10s 166us/step - loss: 0.0955 - acc: 0.9715 - val_loss: 0.0690 - val_acc: 0.9808\n",
      "Epoch 13/20\n",
      "60000/60000 [==============================] - 10s 160us/step - loss: 0.0998 - acc: 0.9701 - val_loss: 0.0699 - val_acc: 0.9800\n",
      "Epoch 14/20\n",
      "60000/60000 [==============================] - 10s 160us/step - loss: 0.0931 - acc: 0.9718 - val_loss: 0.0672 - val_acc: 0.9809\n",
      "Epoch 15/20\n",
      "60000/60000 [==============================] - 10s 160us/step - loss: 0.0904 - acc: 0.9733 - val_loss: 0.0605 - val_acc: 0.9824\n",
      "Epoch 16/20\n",
      "60000/60000 [==============================] - 10s 159us/step - loss: 0.0846 - acc: 0.9754 - val_loss: 0.0591 - val_acc: 0.9831\n",
      "Epoch 17/20\n",
      "60000/60000 [==============================] - 10s 159us/step - loss: 0.0811 - acc: 0.9750 - val_loss: 0.0661 - val_acc: 0.9816\n",
      "Epoch 18/20\n",
      "60000/60000 [==============================] - 10s 160us/step - loss: 0.0794 - acc: 0.9762 - val_loss: 0.0680 - val_acc: 0.9815\n",
      "Epoch 19/20\n",
      "60000/60000 [==============================] - 10s 161us/step - loss: 0.0753 - acc: 0.9776 - val_loss: 0.0604 - val_acc: 0.9827\n",
      "Epoch 20/20\n",
      "60000/60000 [==============================] - 10s 161us/step - loss: 0.0755 - acc: 0.9778 - val_loss: 0.0659 - val_acc: 0.9822\n"
     ]
    }
   ],
   "source": [
    "model_3d = Sequential()\n",
    "\n",
    "# Adding first hidden layer\n",
    "model_3d.add(Dense(392, activation='relu', input_shape=(input_dim,), kernel_initializer=he_normal(seed=None)))\n",
    "# Adding Batch Normalization\n",
    "model_3d.add(BatchNormalization())\n",
    "# Adding dropout\n",
    "model_3d.add(Dropout(0.5))\n",
    "\n",
    "# Adding second hidden layer\n",
    "model_3d.add(Dense(196, activation='relu', kernel_initializer=he_normal(seed=None)))\n",
    "# Adding Batch Normalization\n",
    "model_3d.add(BatchNormalization())\n",
    "# Adding dropout\n",
    "model_3d.add(Dropout(0.5))\n",
    "\n",
    "# Adding third hidden layer\n",
    "model_3d.add(Dense(98, activation='relu', kernel_initializer=he_normal(seed=None)))\n",
    "# Adding Batch Normalization\n",
    "model_3d.add(BatchNormalization())\n",
    "# Adding dropout\n",
    "model_3d.add(Dropout(0.5))\n",
    "\n",
    "# Adding output layer\n",
    "model_3d.add(Dense(output_dim, activation='softmax'))\n",
    "\n",
    "# Printing model Summary\n",
    "print(model_3d.summary())\n",
    "\n",
    "# Compiling the model\n",
    "model_3d.compile(optimizer='adam', loss='categorical_crossentropy', metrics=['accuracy'])\n",
    "\n",
    "# Fitting the data to the model\n",
    "history_3d = model_3d.fit(X_train, y_train, batch_size=batch_size, epochs=nb_epoch, verbose=1, validation_data=(X_test, y_test))\n"
   ]
  },
  {
   "cell_type": "code",
   "execution_count": 15,
   "metadata": {
    "colab": {
     "base_uri": "https://localhost:8080/",
     "height": 398
    },
    "colab_type": "code",
    "executionInfo": {
     "elapsed": 2504,
     "status": "ok",
     "timestamp": 1537159105317,
     "user": {
      "displayName": "Pushpendra Singh Chauhan",
      "photoUrl": "//lh3.googleusercontent.com/-P7Pe1EukcZw/AAAAAAAAAAI/AAAAAAAABPk/3MKv8EWLoaE/s50-c-k-no/photo.jpg",
      "userId": "100674582413245730217"
     },
     "user_tz": -330
    },
    "id": "B-l0po1MzbrX",
    "outputId": "adaa53fc-1654-4616-acd5-806f39356027"
   },
   "outputs": [
    {
     "name": "stdout",
     "output_type": "stream",
     "text": [
      "Test score: 0.06592972582291114\n",
      "Test accuracy: 0.9822\n"
     ]
    },
    {
     "data": {
      "image/png": "[encoded data removed]",
      "text/plain": [
       "<matplotlib.figure.Figure at 0x7ffb8a279780>"
      ]
     },
     "metadata": {
      "tags": []
     },
     "output_type": "display_data"
    }
   ],
   "source": [
    "# Evaluating the model\n",
    "score = model_3d.evaluate(X_test, y_test, verbose=0) \n",
    "print('Test score:', score[0]) \n",
    "print('Test accuracy:', score[1])\n",
    "\n",
    "# Test and train accuracy of the model\n",
    "model_3d_test = score[1]\n",
    "model_3d_train = history_3d.history['acc']\n",
    "\n",
    "# Plotting Train and Test Loss VS no. of epochs\n",
    "# list of epoch numbers\n",
    "x = list(range(1,nb_epoch+1))\n",
    "\n",
    "# Validation loss\n",
    "vy = history_3d.history['val_loss']\n",
    "# Training loss\n",
    "ty = history_3d.history['loss']\n",
    "\n",
    "# Calling the function to draw the plot\n",
    "plt_dynamic(x, vy, ty)"
   ]
  },
  {
   "cell_type": "markdown",
   "metadata": {
    "colab_type": "text",
    "id": "3XMI82dEzmFT"
   },
   "source": [
    "## (3). Softmax Classifier with 5 hidden layers "
   ]
  },
  {
   "cell_type": "markdown",
   "metadata": {
    "colab_type": "text",
    "id": "6rebTcnczvb6"
   },
   "source": [
    "(3.a) Without Dropout and Batch Normalization"
   ]
  },
  {
   "cell_type": "code",
   "execution_count": 16,
   "metadata": {
    "colab": {
     "base_uri": "https://localhost:8080/",
     "height": 1071
    },
    "colab_type": "code",
    "executionInfo": {
     "elapsed": 191234,
     "status": "ok",
     "timestamp": 1537159325831,
     "user": {
      "displayName": "Pushpendra Singh Chauhan",
      "photoUrl": "//lh3.googleusercontent.com/-P7Pe1EukcZw/AAAAAAAAAAI/AAAAAAAABPk/3MKv8EWLoaE/s50-c-k-no/photo.jpg",
      "userId": "100674582413245730217"
     },
     "user_tz": -330
    },
    "id": "MkgDGRHaz4K5",
    "outputId": "33a46b17-8ef0-4960-ea5e-dcf921b00033"
   },
   "outputs": [
    {
     "name": "stdout",
     "output_type": "stream",
     "text": [
      "_________________________________________________________________\n",
      "Layer (type)                 Output Shape              Param #   \n",
      "=================================================================\n",
      "dense_16 (Dense)             (None, 512)               401920    \n",
      "_________________________________________________________________\n",
      "dense_17 (Dense)             (None, 256)               131328    \n",
      "_________________________________________________________________\n",
      "dense_18 (Dense)             (None, 128)               32896     \n",
      "_________________________________________________________________\n",
      "dense_19 (Dense)             (None, 64)                8256      \n",
      "_________________________________________________________________\n",
      "dense_20 (Dense)             (None, 32)                2080      \n",
      "_________________________________________________________________\n",
      "dense_21 (Dense)             (None, 10)                330       \n",
      "=================================================================\n",
      "Total params: 576,810\n",
      "Trainable params: 576,810\n",
      "Non-trainable params: 0\n",
      "_________________________________________________________________\n",
      "None\n",
      "Train on 60000 samples, validate on 10000 samples\n",
      "Epoch 1/20\n",
      "60000/60000 [==============================] - 10s 169us/step - loss: 0.2726 - acc: 0.9163 - val_loss: 0.1065 - val_acc: 0.9678\n",
      "Epoch 2/20\n",
      "60000/60000 [==============================] - 9s 156us/step - loss: 0.0936 - acc: 0.9719 - val_loss: 0.0766 - val_acc: 0.9770\n",
      "Epoch 3/20\n",
      "60000/60000 [==============================] - 9s 156us/step - loss: 0.0616 - acc: 0.9810 - val_loss: 0.0878 - val_acc: 0.9726\n",
      "Epoch 4/20\n",
      "60000/60000 [==============================] - 9s 157us/step - loss: 0.0466 - acc: 0.9852 - val_loss: 0.0816 - val_acc: 0.9759\n",
      "Epoch 5/20\n",
      "60000/60000 [==============================] - 9s 158us/step - loss: 0.0374 - acc: 0.9879 - val_loss: 0.0830 - val_acc: 0.9777\n",
      "Epoch 6/20\n",
      "60000/60000 [==============================] - 10s 169us/step - loss: 0.0306 - acc: 0.9901 - val_loss: 0.0914 - val_acc: 0.9766\n",
      "Epoch 7/20\n",
      "60000/60000 [==============================] - 10s 160us/step - loss: 0.0239 - acc: 0.9921 - val_loss: 0.0842 - val_acc: 0.9774\n",
      "Epoch 8/20\n",
      "60000/60000 [==============================] - 9s 157us/step - loss: 0.0232 - acc: 0.9927 - val_loss: 0.0820 - val_acc: 0.9803\n",
      "Epoch 9/20\n",
      "60000/60000 [==============================] - 9s 157us/step - loss: 0.0220 - acc: 0.9931 - val_loss: 0.0758 - val_acc: 0.9807\n",
      "Epoch 10/20\n",
      "60000/60000 [==============================] - 9s 157us/step - loss: 0.0181 - acc: 0.9944 - val_loss: 0.0859 - val_acc: 0.9808\n",
      "Epoch 11/20\n",
      "60000/60000 [==============================] - 9s 157us/step - loss: 0.0167 - acc: 0.9950 - val_loss: 0.0780 - val_acc: 0.9820\n",
      "Epoch 12/20\n",
      "60000/60000 [==============================] - 10s 159us/step - loss: 0.0153 - acc: 0.9954 - val_loss: 0.0833 - val_acc: 0.9808\n",
      "Epoch 13/20\n",
      "60000/60000 [==============================] - 9s 158us/step - loss: 0.0161 - acc: 0.9946 - val_loss: 0.0755 - val_acc: 0.9818\n",
      "Epoch 14/20\n",
      "60000/60000 [==============================] - 9s 158us/step - loss: 0.0128 - acc: 0.9960 - val_loss: 0.0799 - val_acc: 0.9823\n",
      "Epoch 15/20\n",
      "60000/60000 [==============================] - 9s 157us/step - loss: 0.0138 - acc: 0.9957 - val_loss: 0.0888 - val_acc: 0.9805\n",
      "Epoch 16/20\n",
      "60000/60000 [==============================] - 9s 155us/step - loss: 0.0124 - acc: 0.9961 - val_loss: 0.0895 - val_acc: 0.9801\n",
      "Epoch 17/20\n",
      "60000/60000 [==============================] - 9s 157us/step - loss: 0.0103 - acc: 0.9966 - val_loss: 0.1011 - val_acc: 0.9816\n",
      "Epoch 18/20\n",
      "60000/60000 [==============================] - 9s 156us/step - loss: 0.0120 - acc: 0.9963 - val_loss: 0.0955 - val_acc: 0.9818\n",
      "Epoch 19/20\n",
      "60000/60000 [==============================] - 9s 154us/step - loss: 0.0108 - acc: 0.9970 - val_loss: 0.1021 - val_acc: 0.9792\n",
      "Epoch 20/20\n",
      "60000/60000 [==============================] - 9s 156us/step - loss: 0.0116 - acc: 0.9968 - val_loss: 0.0814 - val_acc: 0.9827\n"
     ]
    }
   ],
   "source": [
    "# Initialising model\n",
    "model_5 = Sequential()\n",
    "\n",
    "# Adding first hidden layer\n",
    "model_5.add(Dense(512, activation='relu', input_shape=(input_dim,), kernel_initializer=he_normal(seed=None)))\n",
    "\n",
    "# Adding second hidden layer\n",
    "model_5.add(Dense(256, activation='relu', kernel_initializer=he_normal(seed=None)))\n",
    "\n",
    "# Adding third hidden layer\n",
    "model_5.add(Dense(128, activation='relu', kernel_initializer=he_normal(seed=None)))\n",
    "\n",
    "# Adding fourth hidden layer\n",
    "model_5.add(Dense(64, activation='relu', kernel_initializer=he_normal(seed=None)))\n",
    "\n",
    "# Adding fifth hidden layer\n",
    "model_5.add(Dense(32, activation='relu', kernel_initializer=he_normal(seed=None)))\n",
    "\n",
    "# Adding output layer\n",
    "model_5.add(Dense(output_dim, activation='softmax'))\n",
    "\n",
    "# Printing model Summary\n",
    "print(model_5.summary())\n",
    "\n",
    "# Compiling the model\n",
    "model_5.compile(optimizer='adam', loss='categorical_crossentropy', metrics=['accuracy'])\n",
    "\n",
    "# Fitting the data to the model\n",
    "history_5 = model_5.fit(X_train, y_train, batch_size=batch_size, epochs=nb_epoch, verbose=1, validation_data=(X_test, y_test))"
   ]
  },
  {
   "cell_type": "code",
   "execution_count": 17,
   "metadata": {
    "colab": {
     "base_uri": "https://localhost:8080/",
     "height": 398
    },
    "colab_type": "code",
    "executionInfo": {
     "elapsed": 2504,
     "status": "ok",
     "timestamp": 1537159362413,
     "user": {
      "displayName": "Pushpendra Singh Chauhan",
      "photoUrl": "//lh3.googleusercontent.com/-P7Pe1EukcZw/AAAAAAAAAAI/AAAAAAAABPk/3MKv8EWLoaE/s50-c-k-no/photo.jpg",
      "userId": "100674582413245730217"
     },
     "user_tz": -330
    },
    "id": "PgGvMSFc0w7O",
    "outputId": "eae32c1f-a211-4a7f-aab4-4a1b06e08f28"
   },
   "outputs": [
    {
     "name": "stdout",
     "output_type": "stream",
     "text": [
      "Test score: 0.08139225203025052\n",
      "Test accuracy: 0.9827\n"
     ]
    },
    {
     "data": {
      "image/png": "[encoded data removed]",
      "text/plain": [
       "<matplotlib.figure.Figure at 0x7ffb8a288438>"
      ]
     },
     "metadata": {
      "tags": []
     },
     "output_type": "display_data"
    }
   ],
   "source": [
    "# Evaluating the model\n",
    "score = model_5.evaluate(X_test, y_test, verbose=0) \n",
    "print('Test score:', score[0]) \n",
    "print('Test accuracy:', score[1])\n",
    "\n",
    "# Test and train accuracy of the model\n",
    "model_5_test = score[1]\n",
    "model_5_train = history_5.history['acc']\n",
    "\n",
    "# Plotting Train and Test Loss VS no. of epochs\n",
    "# list of epoch numbers\n",
    "x = list(range(1,nb_epoch+1))\n",
    "\n",
    "# Validation loss\n",
    "vy = history_5.history['val_loss']\n",
    "# Training loss\n",
    "ty = history_5.history['loss']\n",
    "\n",
    "# Calling the function to draw the plot\n",
    "plt_dynamic(x, vy, ty)"
   ]
  },
  {
   "cell_type": "markdown",
   "metadata": {
    "colab_type": "text",
    "id": "-yxNW_yy1MmN"
   },
   "source": [
    "### (3.b) With Dropout and Batch Normalisation"
   ]
  },
  {
   "cell_type": "code",
   "execution_count": 18,
   "metadata": {
    "colab": {
     "base_uri": "https://localhost:8080/",
     "height": 1417
    },
    "colab_type": "code",
    "executionInfo": {
     "elapsed": 260888,
     "status": "ok",
     "timestamp": 1537159702240,
     "user": {
      "displayName": "Pushpendra Singh Chauhan",
      "photoUrl": "//lh3.googleusercontent.com/-P7Pe1EukcZw/AAAAAAAAAAI/AAAAAAAABPk/3MKv8EWLoaE/s50-c-k-no/photo.jpg",
      "userId": "100674582413245730217"
     },
     "user_tz": -330
    },
    "id": "HuBGfwwN1TKA",
    "outputId": "44e9f0ad-8a1b-498b-8727-72791eb48d73"
   },
   "outputs": [
    {
     "name": "stdout",
     "output_type": "stream",
     "text": [
      "_________________________________________________________________\n",
      "Layer (type)                 Output Shape              Param #   \n",
      "=================================================================\n",
      "dense_22 (Dense)             (None, 512)               401920    \n",
      "_________________________________________________________________\n",
      "batch_normalization_6 (Batch (None, 512)               2048      \n",
      "_________________________________________________________________\n",
      "dropout_6 (Dropout)          (None, 512)               0         \n",
      "_________________________________________________________________\n",
      "dense_23 (Dense)             (None, 256)               131328    \n",
      "_________________________________________________________________\n",
      "batch_normalization_7 (Batch (None, 256)               1024      \n",
      "_________________________________________________________________\n",
      "dropout_7 (Dropout)          (None, 256)               0         \n",
      "_________________________________________________________________\n",
      "dense_24 (Dense)             (None, 128)               32896     \n",
      "_________________________________________________________________\n",
      "batch_normalization_8 (Batch (None, 128)               512       \n",
      "_________________________________________________________________\n",
      "dropout_8 (Dropout)          (None, 128)               0         \n",
      "_________________________________________________________________\n",
      "dense_25 (Dense)             (None, 64)                8256      \n",
      "_________________________________________________________________\n",
      "batch_normalization_9 (Batch (None, 64)                256       \n",
      "_________________________________________________________________\n",
      "dropout_9 (Dropout)          (None, 64)                0         \n",
      "_________________________________________________________________\n",
      "dense_26 (Dense)             (None, 32)                2080      \n",
      "_________________________________________________________________\n",
      "batch_normalization_10 (Batc (None, 32)                128       \n",
      "_________________________________________________________________\n",
      "dropout_10 (Dropout)         (None, 32)                0         \n",
      "_________________________________________________________________\n",
      "dense_27 (Dense)             (None, 10)                330       \n",
      "=================================================================\n",
      "Total params: 580,778\n",
      "Trainable params: 578,794\n",
      "Non-trainable params: 1,984\n",
      "_________________________________________________________________\n",
      "None\n",
      "Train on 60000 samples, validate on 10000 samples\n",
      "Epoch 1/20\n",
      "60000/60000 [==============================] - 15s 253us/step - loss: 1.3940 - acc: 0.5474 - val_loss: 0.3163 - val_acc: 0.9169\n",
      "Epoch 2/20\n",
      "60000/60000 [==============================] - 13s 213us/step - loss: 0.5452 - acc: 0.8511 - val_loss: 0.1914 - val_acc: 0.9485\n",
      "Epoch 3/20\n",
      "60000/60000 [==============================] - 13s 212us/step - loss: 0.3737 - acc: 0.9058 - val_loss: 0.1553 - val_acc: 0.9601\n",
      "Epoch 4/20\n",
      "60000/60000 [==============================] - 13s 217us/step - loss: 0.3167 - acc: 0.9237 - val_loss: 0.1370 - val_acc: 0.9648\n",
      "Epoch 5/20\n",
      "60000/60000 [==============================] - 13s 220us/step - loss: 0.2769 - acc: 0.9335 - val_loss: 0.1423 - val_acc: 0.9641\n",
      "Epoch 6/20\n",
      "60000/60000 [==============================] - 13s 213us/step - loss: 0.2476 - acc: 0.9423 - val_loss: 0.1258 - val_acc: 0.9686\n",
      "Epoch 7/20\n",
      "60000/60000 [==============================] - 13s 214us/step - loss: 0.2276 - acc: 0.9461 - val_loss: 0.1092 - val_acc: 0.9731\n",
      "Epoch 8/20\n",
      "60000/60000 [==============================] - 13s 211us/step - loss: 0.2056 - acc: 0.9533 - val_loss: 0.1063 - val_acc: 0.9741\n",
      "Epoch 9/20\n",
      "60000/60000 [==============================] - 13s 213us/step - loss: 0.1955 - acc: 0.9558 - val_loss: 0.1003 - val_acc: 0.9764\n",
      "Epoch 10/20\n",
      "60000/60000 [==============================] - 13s 214us/step - loss: 0.1809 - acc: 0.9584 - val_loss: 0.1067 - val_acc: 0.9746\n",
      "Epoch 11/20\n",
      "60000/60000 [==============================] - 13s 213us/step - loss: 0.1750 - acc: 0.9603 - val_loss: 0.0914 - val_acc: 0.9779\n",
      "Epoch 12/20\n",
      "60000/60000 [==============================] - 13s 213us/step - loss: 0.1672 - acc: 0.9622 - val_loss: 0.0986 - val_acc: 0.9768\n",
      "Epoch 13/20\n",
      "60000/60000 [==============================] - 13s 212us/step - loss: 0.1590 - acc: 0.9644 - val_loss: 0.0988 - val_acc: 0.9768\n",
      "Epoch 14/20\n",
      "60000/60000 [==============================] - 13s 213us/step - loss: 0.1573 - acc: 0.9649 - val_loss: 0.0823 - val_acc: 0.9798\n",
      "Epoch 15/20\n",
      "60000/60000 [==============================] - 13s 212us/step - loss: 0.1511 - acc: 0.9660 - val_loss: 0.0790 - val_acc: 0.9814\n",
      "Epoch 16/20\n",
      "60000/60000 [==============================] - 13s 209us/step - loss: 0.1432 - acc: 0.9679 - val_loss: 0.0843 - val_acc: 0.9817\n",
      "Epoch 17/20\n",
      "60000/60000 [==============================] - 13s 210us/step - loss: 0.1411 - acc: 0.9688 - val_loss: 0.0920 - val_acc: 0.9790\n",
      "Epoch 18/20\n",
      "60000/60000 [==============================] - 13s 212us/step - loss: 0.1472 - acc: 0.9671 - val_loss: 0.0825 - val_acc: 0.9798\n",
      "Epoch 19/20\n",
      "60000/60000 [==============================] - 13s 211us/step - loss: 0.1365 - acc: 0.9697 - val_loss: 0.0827 - val_acc: 0.9824\n",
      "Epoch 20/20\n",
      "60000/60000 [==============================] - 13s 212us/step - loss: 0.1277 - acc: 0.9713 - val_loss: 0.0853 - val_acc: 0.9810\n"
     ]
    }
   ],
   "source": [
    "# Initialising model\n",
    "model_5d = Sequential()\n",
    "\n",
    "# Adding first hidden layer\n",
    "model_5d.add(Dense(512, activation='relu', input_shape=(input_dim,), kernel_initializer=he_normal(seed=None)))\n",
    "# Adding Batch Normalization\n",
    "model_5d.add(BatchNormalization())\n",
    "# Adding dropout\n",
    "model_5d.add(Dropout(0.5))\n",
    "\n",
    "# Adding second hidden layer\n",
    "model_5d.add(Dense(256, activation='relu', kernel_initializer=he_normal(seed=None)))\n",
    "# Adding Batch Normalization\n",
    "model_5d.add(BatchNormalization())\n",
    "# Adding dropout\n",
    "model_5d.add(Dropout(0.5))\n",
    "\n",
    "# Adding third hidden layer\n",
    "model_5d.add(Dense(128, activation='relu', kernel_initializer=he_normal(seed=None)))\n",
    "# Adding Batch Normalization\n",
    "model_5d.add(BatchNormalization())\n",
    "# Adding dropout\n",
    "model_5d.add(Dropout(0.5))\n",
    "\n",
    "# Adding fourth hidden layer\n",
    "model_5d.add(Dense(64, activation='relu', kernel_initializer=he_normal(seed=None)))\n",
    "# Adding Batch Normalization\n",
    "model_5d.add(BatchNormalization())\n",
    "# Adding dropout\n",
    "model_5d.add(Dropout(0.5))\n",
    "\n",
    "# Adding fifth hidden layer\n",
    "model_5d.add(Dense(32, activation='relu', kernel_initializer=he_normal(seed=None)))\n",
    "# Adding Batch Normalization\n",
    "model_5d.add(BatchNormalization())\n",
    "# Adding dropout\n",
    "model_5d.add(Dropout(0.5))\n",
    "\n",
    "# Adding output layer\n",
    "model_5d.add(Dense(output_dim, activation='softmax'))\n",
    "\n",
    "# Printing model Summary\n",
    "print(model_5d.summary())\n",
    "\n",
    "# Compiling the model\n",
    "model_5d.compile(optimizer='adam', loss='categorical_crossentropy', metrics=['accuracy'])\n",
    "\n",
    "# Fitting the data to the model\n",
    "history_5d = model_5d.fit(X_train, y_train, batch_size=batch_size, epochs=nb_epoch, verbose=1, validation_data=(X_test, y_test))"
   ]
  },
  {
   "cell_type": "code",
   "execution_count": 19,
   "metadata": {
    "colab": {
     "base_uri": "https://localhost:8080/",
     "height": 398
    },
    "colab_type": "code",
    "executionInfo": {
     "elapsed": 3106,
     "status": "ok",
     "timestamp": 1537159716487,
     "user": {
      "displayName": "Pushpendra Singh Chauhan",
      "photoUrl": "//lh3.googleusercontent.com/-P7Pe1EukcZw/AAAAAAAAAAI/AAAAAAAABPk/3MKv8EWLoaE/s50-c-k-no/photo.jpg",
      "userId": "100674582413245730217"
     },
     "user_tz": -330
    },
    "id": "oqdoovBv2GBi",
    "outputId": "ce9c919f-703a-4f80-8767-e3491cb6ce2a"
   },
   "outputs": [
    {
     "name": "stdout",
     "output_type": "stream",
     "text": [
      "Test score: 0.08531591616126243\n",
      "Test accuracy: 0.981\n"
     ]
    },
    {
     "data": {
      "image/png": "[encoded data removed]",
      "text/plain": [
       "<matplotlib.figure.Figure at 0x7ffb874e1c50>"
      ]
     },
     "metadata": {
      "tags": []
     },
     "output_type": "display_data"
    }
   ],
   "source": [
    "# Evaluating the model\n",
    "score = model_5d.evaluate(X_test, y_test, verbose=0) \n",
    "print('Test score:', score[0]) \n",
    "print('Test accuracy:', score[1])\n",
    "\n",
    "# Test and train accuracy of the model\n",
    "model_5d_test = score[1]\n",
    "model_5d_train = history_5d.history['acc']\n",
    "\n",
    "# Plotting Train and Test Loss VS no. of epochs\n",
    "# list of epoch numbers\n",
    "x = list(range(1,nb_epoch+1))\n",
    "\n",
    "# Validation loss\n",
    "vy = history_5d.history['val_loss']\n",
    "# Training loss\n",
    "ty = history_5d.history['loss']\n",
    "\n",
    "# Calling the function to draw the plot\n",
    "plt_dynamic(x, vy, ty)"
   ]
  },
  {
   "cell_type": "markdown",
   "metadata": {
    "colab_type": "text",
    "id": "vGE7FtRQ2bHR"
   },
   "source": [
    "## CONCLUSION "
   ]
  },
  {
   "cell_type": "markdown",
   "metadata": {
    "colab_type": "text",
    "id": "BylMNLj02emr"
   },
   "source": [
    "## (a). Procedure Followed :"
   ]
  },
  {
   "cell_type": "markdown",
   "metadata": {
    "colab_type": "text",
    "id": "gaiE2O_22qug"
   },
   "source": [
    "1.   Load MNIST dataset\n",
    "2.   Split the dataset into train and test\n",
    "3.   Normalize the train and test data\n",
    "4.   Convert class variable into categorical data vector\n",
    "5.   Implement Softmax classifier with 2 , 3 and 5 hidden layers .\n",
    "6.   Add Dropout and Batch Normalization to the hidden layers .\n",
    "7.   Draw Categorical Crossentropy Loss VS No.of Epochs plot . \n",
    "\n"
   ]
  },
  {
   "cell_type": "markdown",
   "metadata": {
    "colab_type": "text",
    "id": "BGPY5FbI4thE"
   },
   "source": [
    "## (b) Table (Different models with their train and test accuracies):"
   ]
  },
  {
   "cell_type": "code",
   "execution_count": 22,
   "metadata": {
    "colab": {
     "base_uri": "https://localhost:8080/",
     "height": 207
    },
    "colab_type": "code",
    "executionInfo": {
     "elapsed": 3376,
     "status": "ok",
     "timestamp": 1537160984433,
     "user": {
      "displayName": "Pushpendra Singh Chauhan",
      "photoUrl": "//lh3.googleusercontent.com/-P7Pe1EukcZw/AAAAAAAAAAI/AAAAAAAABPk/3MKv8EWLoaE/s50-c-k-no/photo.jpg",
      "userId": "100674582413245730217"
     },
     "user_tz": -330
    },
    "id": "m7tJO2wI47J8",
    "outputId": "9cab72f2-7af2-434a-d4e1-65fa5bc165bc"
   },
   "outputs": [
    {
     "name": "stdout",
     "output_type": "stream",
     "text": [
      "Requirement already satisfied: prettytable in /usr/local/lib/python3.6/dist-packages (0.7.2)\n",
      "+-------+--------------------------------------------------------------+--------------------+---------------+\n",
      "| S.NO. |                            MODEL                             | Training Accuracy  | Test Accuracy |\n",
      "+-------+--------------------------------------------------------------+--------------------+---------------+\n",
      "|   1   | MLP(2-hidden layers) Without Dropout and Batch Normalization | 0.9983666666666666 |     0.9815    |\n",
      "|   2   |  MLP(2-hidden layers) With Dropout and Batch Normalization   | 0.9780666666348775 |     0.9817    |\n",
      "|   3   | MLP(3-hidden layers) Without Dropout and Batch Normalization | 0.9966666666666667 |     0.9782    |\n",
      "|   4   |  MLP(3-hidden layers) With Dropout and Batch Normalization   | 0.9777999999682109 |     0.9822    |\n",
      "|   5   | MLP(5-hidden layers) Without Dropout and Batch Normalization | 0.9967666666666667 |     0.9827    |\n",
      "|   6   |  MLP(5-hidden layers) With Dropout and Batch Normalization   | 0.9712833333651225 |     0.981     |\n",
      "+-------+--------------------------------------------------------------+--------------------+---------------+\n"
     ]
    }
   ],
   "source": [
    "# Installing the library prettytable\n",
    "!pip install prettytable\n",
    "\n",
    "# Creating table using PrettyTable library\n",
    "from prettytable import PrettyTable\n",
    "\n",
    "# Names of models\n",
    "names = ['MLP(2-hidden layers) Without Dropout and Batch Normalization','MLP(2-hidden layers) With Dropout and Batch Normalization',\\\n",
    "         'MLP(3-hidden layers) Without Dropout and Batch Normalization','MLP(3-hidden layers) With Dropout and Batch Normalization',\\\n",
    "         'MLP(5-hidden layers) Without Dropout and Batch Normalization','MLP(5-hidden layers) With Dropout and Batch Normalization']\n",
    "\n",
    "# Training accuracies\n",
    "train_acc = [model_2_train[19],model_2d_train[19],model_3_train[19],model_3d_train[19],model_5_train[19],model_5d_train[19]]\n",
    "\n",
    "# Test accuracies\n",
    "test_acc = [model_2_test,model_2d_test,model_3_test,model_3d_test,model_5_test,model_5d_test]\n",
    "\n",
    "numbering = [1,2,3,4,5,6]\n",
    "\n",
    "# Initializing prettytable\n",
    "ptable = PrettyTable()\n",
    "\n",
    "# Adding columns\n",
    "ptable.add_column(\"S.NO.\",numbering)\n",
    "ptable.add_column(\"MODEL\",names)\n",
    "ptable.add_column(\"Training Accuracy\",train_acc)\n",
    "ptable.add_column(\"Test Accuracy\",test_acc)\n",
    "\n",
    "# Printing the Table\n",
    "print(ptable)"
   ]
  }
 ],
 "metadata": {
  "colab": {
   "collapsed_sections": [],
   "name": "Assignment-12(Different MLP architectures on MNIST dataset).ipynb",
   "provenance": [],
   "version": "0.3.2"
  },
  "kernelspec": {
   "display_name": "Python 3",
   "language": "python",
   "name": "python3"
  },
  "language_info": {
   "codemirror_mode": {
    "name": "ipython",
    "version": 3
   },
   "file_extension": ".py",
   "mimetype": "text/x-python",
   "name": "python",
   "nbconvert_exporter": "python",
   "pygments_lexer": "ipython3",
   "version": "3.6.5"
  }
 },
 "nbformat": 4,
 "nbformat_minor": 1
}
